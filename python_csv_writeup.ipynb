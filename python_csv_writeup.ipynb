{
  "nbformat": 4,
  "nbformat_minor": 0,
  "metadata": {
    "colab": {
      "name": "python_csv_writeup.ipynb",
      "provenance": [],
      "collapsed_sections": [],
      "toc_visible": true,
      "authorship_tag": "ABX9TyPyYWPL/H9Jgu9XuOzHqE9f",
      "include_colab_link": true
    },
    "kernelspec": {
      "name": "python3",
      "display_name": "Python 3"
    },
    "language_info": {
      "name": "python"
    }
  },
  "cells": [
    {
      "cell_type": "markdown",
      "metadata": {
        "id": "view-in-github",
        "colab_type": "text"
      },
      "source": [
        "<a href=\"https://colab.research.google.com/github/aeholbrook/python_csv_writeup/blob/main/python_csv_writeup.ipynb\" target=\"_parent\"><img src=\"https://colab.research.google.com/assets/colab-badge.svg\" alt=\"Open In Colab\"/></a>"
      ]
    },
    {
      "cell_type": "markdown",
      "metadata": {
        "id": "q4RiI6LjwtUm"
      },
      "source": [
        "#A Write-up on CSV Imports and List Manipulation\n",
        "\n",
        "\n",
        "##Intro\n",
        "\n",
        "Since we talked today about the basics of csv imports and working with datasets, I thought I'd put together a brief notebook detailing some different ways to work with lists and how they affect performance. \n",
        "\n",
        "\n",
        "###Python stuff\n",
        "\n",
        "This notebook introduces a few essential python tools, including the `time` library, responsible for reading the system clock and measuring the passage of time. We'll be using it to compare the efficiency of different pieces of code. \n",
        "\n",
        "I'm also going to briefly cover the python library `pandas`, which will be discussed in the next lesson, and show you how to do this same assignment in that context. I think you'll see why `pandas` is such a useful tool.\n",
        "\n",
        "###R Stuff\n",
        "\n",
        "Finally, I'm going to show you how to do this same assignment in another popular data science language, `R`. I think that even though `python` is a great primary language and will likely soon become *lingua franca* in the Data Science community, there are still a lot of folks using `R`, especially those working in research and science. I used it a quite often when I was a neuroscience researcher. \n",
        "\n",
        "\n",
        "In introducing `R`, I'll show you one of the coolest things that `notebooks` can do, which is called `%line magic%`. Put simply, the specific flavor we'll be using, `rmagic`, allows you to switch seamlessly between `R` code and `python` code directly in the notebook. There are a lot of other uses for this, but here we'll just stick with this one application. \n",
        "\n",
        "\n",
        "###Why You Should Read This\n",
        "\n",
        "My hope with this write-up is that you'll see that:\n",
        "\n",
        "*   There are a lot of ways to solve the same problem with code. Just because someone else does it differently doesn't mean you did it wrong.\n",
        "*   Code can be used in a litany of ways, but sometimes writing code to emphasize performance and 'prettiness' can be detrimental to the readability of your code. Fancy $\\neq$ readable!\n",
        "*   The same skills you're developing now in `python` are just as easily applied to other languages like `R` with much less effort than it took to learn your first language. When you see a job posting that calls for a language like `R`, `SAS`, or `MatLab`, don't fret! By the end of this course you'll be closer to proficient in these languages than you think!\n",
        "\n",
        "\n",
        "\n",
        "\n",
        "---\n",
        "\n",
        "\n",
        "\n",
        "##Loading Extensions and Libraries\n",
        "\n",
        "Let's start by loading the `rpy2` extension. You don't really need to know much about this, other than that it's responsible for allowing `R` and `python` to interact with each other later on. It's generally good practice to start off by loading & importing all the dependencies you're going to need for your code later on. Also, if you've got a lot of code and you're importing as needed, you might import the same thing a few times, or reimport it under a different name. This can make your code run slower or not at all, and can make things confusing to others reading what you've made!\n",
        "\n",
        "We're also going to be importing the following `python` libraries:\n",
        "\n",
        "*   `os`, which is responsible for interacting with your computer's operating system. This is the library that'll let us `open` and `read` files.\n",
        "\n",
        "*   `csv`, which is what allows `python` to read and interpret `.csv`, or `comma-separated values` files. Our `cereal.csv` file is one of these.\n",
        "\n",
        "*   `time`, which introduces tools responsible for reading the system clock and measuring the passage of time."
      ]
    },
    {
      "cell_type": "code",
      "metadata": {
        "colab": {
          "base_uri": "https://localhost:8080/"
        },
        "id": "TXuR-bpOwmla",
        "outputId": "4f0507e8-4e5e-4f1b-b987-23cc4e77de0a"
      },
      "source": [
        "%load_ext rpy2.ipython\n",
        "!git clone http://github.com/aeholbrook/python_csv_writeup/\n",
        "!cd python_csv_writeup\n",
        "\n",
        "#for finding and reading our csv file\n",
        "import os\n",
        "import csv\n",
        "#for getting the system clock to measure performance\n",
        "import time\n",
        "#for dataset manipulation\n",
        "import pandas as pd"
      ],
      "execution_count": null,
      "outputs": [
        {
          "output_type": "stream",
          "text": [
            "Cloning into 'python_csv_writeup'...\n",
            "warning: redirecting to https://github.com/aeholbrook/python_csv_writeup/\n",
            "remote: Enumerating objects: 44, done.\u001b[K\n",
            "remote: Counting objects: 100% (44/44), done.\u001b[K\n",
            "remote: Compressing objects: 100% (31/31), done.\u001b[K\n",
            "remote: Total 44 (delta 7), reused 37 (delta 5), pack-reused 0\u001b[K\n",
            "Unpacking objects: 100% (44/44), done.\n"
          ],
          "name": "stdout"
        }
      ]
    },
    {
      "cell_type": "markdown",
      "metadata": {
        "id": "uQFxgl8MAuIj"
      },
      "source": [
        "##Base `python` + for-loops\n",
        "\n",
        "First, let's go over the solution we discussed today in class. I will explain this line-by-line here, which may serve as a review for what we covered in class. Let's get started! \n",
        "\n",
        "```\n",
        "cereal_csv = os.path.join(\"Resources\",\"cereal.csv\")\n",
        "```\n",
        "This creates a string, `cereal.csv`, which contains a `path` for `python` to take to find the `cereal.csv` file, which contains our cereal list to be processed. It's a little different from the one we covered, because the file structure in this notebook is a little different than the directory structure from our assignment.\n",
        "\n",
        "```\n",
        "with open(cereal_csv,newline=\"\") as csvfile:\n",
        "```\n",
        "There are a few things going on here:\n",
        "\n",
        "First, our `with` statement is allowing us to catch `exceptions` in our code block without completely stopping our code from running. \n",
        "\n",
        "Second, our `open()` function is telling `python` to read the file at the address denoted by `cereal_csv`. `newline=''` involves a lower-level function of the reader and tells `python` how to handle different types of line separators - we don't need to worry about this very much right now.\n",
        "\n",
        "Third, we are taking the object which we just created using the `open()` function and giving it the name `csvfile`. This object is an `iterable`, with each piece of that `iterable` being a `line` in the `cereal.csv` file.\n",
        "\n",
        "```\n",
        "  csvreader = csv.reader(csvfilem, deliiter=\",\")\n",
        "```\n",
        "We are creating a `reader` object which is an `iterable` based upon the contents of the opened `csvreader` object. We are also telling the code that the items in the `csv` are separated, or delimited, by - you guessed it - a comma! We'll talk a little more about what that `iterable` property means below:\n",
        "\n",
        "```\n",
        "  csv_header = next(csv_file)\n",
        "```\n",
        "It may be a little beyond the scope of this course to talk in-depth about *how* the `next()` function works, but essentially any object that is `iterable` does so because it has a roadmap that tells `python` how to get from one value to another. This is usually a straight line, from item 1, to item 2, etc. The `iterator` also has something like a `cursor`, which keeps track of where you're at in that list of items. `next()` basically returns the item that `cursor` is pointing at, then moves the `cursor` to wherever the roadmap tells it to go next. This is why `csv_header` contains the file's header, but `csvreader` now starts off on the line immediately following the header, since it's still connected to the `csvfile` object.\n",
        "\n",
        "```\n",
        "  print(f\"header: {csv_header}\")\n",
        "```\n",
        "This is a formatted print function which shows the items you just pulled from the header. \n",
        "```\n",
        "  for row in csvreader:\n",
        "```\n",
        "Since `csvreader` is an `iterable`, we can use a `for loop` on it. This basically tells `python` to loop through every item (in this case, each row from our `cereal.csv`), and for each item it gets, do something with it. It temporarily gives the item the name `row`. Here, each `row` object is a `python` `list`, basically a series of values which can be `iterated` through or selected individually.\n",
        "\n",
        "```\n",
        "    if float(row[7]) >= 5:\n",
        "```\n",
        "Now that we have our `row` objects, everything in the `for loop` will be performed on one row from `csvreader` at a time. So let's talk about what this statement will do to an individual `row`:\n",
        "\n",
        "First, we select `row[7]` - counterintuitively, the 8th item in the `row` object. This is because when we `index` - or select by position - in `python`, we do so starting with item number `0`. As we will see later, this is not the case in every language `R` `iterables` start at `1`. \n",
        "\n",
        "We need to convert the item from its current data type (a `string` of characters) to something which `python` can compare to other numbers. This means using some `numeric` data type, like `int` or `float`. \n",
        "\n",
        "Some of the items in the `fiber` column contain decimal values, like `1.5`. These can't be precisely represented as `integers`, since python may round the number or otherwise not represent it properly, so we'll need to make sure to have `python` `cast` - or convert - the value into a `float`. That's what `float()` does. \n",
        "\n",
        "Finally, we will use a comparison to determine whether the `float` we just retrieved is greater than or equal to `5`. Greater than or equal to is expressed as `>=` in `python`. When we're using an `if` statement, we want whatever's after it to be either `True` or `False`. This `>=` comparator will return one of these, and the code contained in the `if` statement will be executed if that value is `True`."
      ]
    },
    {
      "cell_type": "code",
      "metadata": {
        "colab": {
          "base_uri": "https://localhost:8080/"
        },
        "id": "k07ezC0CBGr5",
        "outputId": "80884a70-2770-45e8-e3c6-233aef973b78"
      },
      "source": [
        "#This command, while not covered above, is what measures the current time.\n",
        "time1 = time.time()\n",
        "#Define the path which will lead to the cereal.csv file.\n",
        "cereal_csv = os.path.join(\"python_csv_writeup\",\"Resources\", \"cereal.csv\")\n",
        "# Open and read csv\n",
        "with open(cereal_csv, newline=\"\") as csvfile:\n",
        "  csvreader = csv.reader(csvfile, delimiter=\",\")\n",
        "  # Read the header row first (skip this part if there is no header)\n",
        "  csv_header = next(csvfile)\n",
        "  print(f\"Header: {csv_header}\")\n",
        "  # Read through each row of data after the header\n",
        "  for row in csvreader:\n",
        "    # Convert row to float and compare to grams of fiber\n",
        "    if float(row[7]) >= 5:\n",
        "      print(row)\n",
        "time1 = time.time() - time1\n",
        "\n",
        "print(f\"\\nTime: {time1}\")"
      ],
      "execution_count": null,
      "outputs": [
        {
          "output_type": "stream",
          "text": [
            "Header: ﻿name,mfr,type,calories,protein,fat,sodium,fiber,carbo,sugars,potass,vitamins,shelf,weight,cups,rating\r\n",
            "['100% Bran', 'N', 'C', '70', '4', '1', '130', '10', '5', '6', '280', '25', '3', '1', '0.33', '68.402973']\n",
            "['All-Bran', 'K', 'C', '70', '4', '1', '260', '9', '7', '5', '320', '25', '3', '1', '0.33', '59.425505']\n",
            "['All-Bran with Extra Fiber', 'K', 'C', '50', '4', '0', '140', '14', '8', '0', '330', '25', '3', '1', '0.5', '93.704912']\n",
            "['Bran Flakes', 'P', 'C', '90', '3', '0', '210', '5', '13', '5', '190', '25', '3', '1', '0.67', '53.313813']\n",
            "['Fruit & Fibre Dates; Walnuts; and Oats', 'P', 'C', '120', '3', '2', '160', '5', '12', '10', '200', '25', '3', '1.25', '0.67', '40.917047']\n",
            "['Fruitful Bran', 'K', 'C', '120', '3', '0', '240', '5', '14', '12', '190', '25', '3', '1.33', '0.67', '41.015492']\n",
            "['Post Nat. Raisin Bran', 'P', 'C', '120', '3', '1', '200', '6', '11', '14', '260', '25', '3', '1.33', '0.67', '37.840594']\n",
            "['Raisin Bran', 'K', 'C', '120', '3', '1', '210', '5', '14', '12', '240', '25', '2', '1.33', '0.75', '39.259197']\n",
            "\n",
            "Time: 0.00494384765625\n"
          ],
          "name": "stdout"
        }
      ]
    },
    {
      "cell_type": "markdown",
      "metadata": {
        "id": "PoIXsdPGuGE-"
      },
      "source": [
        "#Base `python` + List Comprehension\n",
        "\n",
        "Something really cool about python is its modular ability to generate `lists` and `iterables`. We might have covered this briefly today, but I want to take the opportunity to show you how the above code could be converted into `list comprehension` notation. \n",
        "\n",
        "Basically, `list comprehension` is a way to construct `iterable` objects without using `for loops`. They are usually a little faster, since statements written in `list comprehension` are often a little faster for `python` than `for loops`, though they can often sacrifice readability. You may notice in the following example that\n",
        "\n",
        "\n",
        "```\n",
        "  matching_rows = [row\n",
        "                   for row in csvreader \n",
        "                   if float(row[7]) >= 5\n",
        "                   ]\n",
        "  print(matching_rows)\n",
        "```\n",
        "\n",
        "is a bit harder to read at first glance than\n",
        "\n",
        "\n",
        "\n",
        "```\n",
        "  for row in csvreader:\n",
        "    if float(row[7]) >= 5:\n",
        "      print(row)\n",
        "```\n",
        "\n",
        "However, `list comprehension` has a lot of benefits, and it is widely utilized. [Here's](https://www.geeksforgeeks.org/python-list-comprehension-and-slicing/) a write-up if you reckon you'd like to learn more.\n",
        "\n",
        "One more thing: the below code contains the following print statement:\n",
        "\n",
        "```\n",
        "  print(*matching_rows, sep='\\n')\n",
        "```\n",
        "\n",
        "which may look kind of weird. Basically, the `*` in front of the `matching_rows` list indicates we'd like to pass each `element` from that list as an individual argument to the print statement (it's the same as if we passed in something like `print(row1,row2,row3,row4, etc)`, then the `sep='\\n'` means we'd like to separate each argument with a newline. This makes the print output look just like the one in the `for loop` above.\n",
        "\n",
        "\n"
      ]
    },
    {
      "cell_type": "code",
      "metadata": {
        "id": "09iYgFpEpbTD",
        "colab": {
          "base_uri": "https://localhost:8080/"
        },
        "outputId": "e4a082af-0968-4bef-b438-5f1f9abb2d82"
      },
      "source": [
        "#This command, while not covered above, is what measures the current time.\n",
        "time2 = time.time()\n",
        "#Let's define the path again\n",
        "cereal_csv = os.path.join(\"python_csv_writeup\",\"Resources\", \"cereal.csv\")\n",
        "# Open and read csv\n",
        "with open(cereal_csv, newline=\"\") as csvfile:\n",
        "  csvreader = csv.reader(csvfile, delimiter=\",\")\n",
        "  # Read the header row first (skip this part if there is no header)\n",
        "  csv_header = next(csvfile)\n",
        "  print(f\"Header: {csv_header}\")\n",
        "  # Read through each row of data after the header, this time using list comprehension.\n",
        "  matching_rows = [row\n",
        "                   for row in csvreader \n",
        "                   if float(row[7]) >= 5\n",
        "                   ]\n",
        "  print(*matching_rows, sep='\\n')\n",
        "\n",
        "time2 = time.time() - time2\n",
        "\n",
        "print(f\"\\nTime: {time2}\")"
      ],
      "execution_count": null,
      "outputs": [
        {
          "output_type": "stream",
          "text": [
            "Header: ﻿name,mfr,type,calories,protein,fat,sodium,fiber,carbo,sugars,potass,vitamins,shelf,weight,cups,rating\r\n",
            "['100% Bran', 'N', 'C', '70', '4', '1', '130', '10', '5', '6', '280', '25', '3', '1', '0.33', '68.402973']\n",
            "['All-Bran', 'K', 'C', '70', '4', '1', '260', '9', '7', '5', '320', '25', '3', '1', '0.33', '59.425505']\n",
            "['All-Bran with Extra Fiber', 'K', 'C', '50', '4', '0', '140', '14', '8', '0', '330', '25', '3', '1', '0.5', '93.704912']\n",
            "['Bran Flakes', 'P', 'C', '90', '3', '0', '210', '5', '13', '5', '190', '25', '3', '1', '0.67', '53.313813']\n",
            "['Fruit & Fibre Dates; Walnuts; and Oats', 'P', 'C', '120', '3', '2', '160', '5', '12', '10', '200', '25', '3', '1.25', '0.67', '40.917047']\n",
            "['Fruitful Bran', 'K', 'C', '120', '3', '0', '240', '5', '14', '12', '190', '25', '3', '1.33', '0.67', '41.015492']\n",
            "['Post Nat. Raisin Bran', 'P', 'C', '120', '3', '1', '200', '6', '11', '14', '260', '25', '3', '1.33', '0.67', '37.840594']\n",
            "['Raisin Bran', 'K', 'C', '120', '3', '1', '210', '5', '14', '12', '240', '25', '2', '1.33', '0.75', '39.259197']\n",
            "\n",
            "Time: 0.004172325134277344\n"
          ],
          "name": "stdout"
        }
      ]
    },
    {
      "cell_type": "markdown",
      "metadata": {
        "id": "YgvKWxDxz8A4"
      },
      "source": [
        "#`pandas`\n",
        "\n",
        "Now, we're going to do the same selection task, using objects & methods from the `pandas` library. \n",
        "\n",
        "There are dozens of ways to solve this challenge in `pandas`, but I picked one which is simple, to the point, and quick, without sacrificing too much efficiency. \n",
        "\n",
        "```\n",
        "cereal_data_frame = pd.read_csv(cereal_csv, sep=\",\", header=\"infer\")\n",
        "```\n",
        "\n",
        "We have the same `path` set in our `cereal_csv` variable here, since we're accessing the same file, so the first time our code differs here is when we read our `csv` file. `pandas` does a lot of work for us here - I added the `sep` argument in manually even though commas are the default delimiter. It also `infer`s the header type by default, but if you would like to use the `cereal_bonus.csv` file here, you would only need to change that argument to `header=False`.\n",
        "\n",
        "What we are making here, in fact, is a `pandas` `data_frame` object. As you're working with it, you might recognize its similarity to the native `python` `dict` object. \n",
        "\n",
        "Since `pandas` has already taken care of the header, we don't need to worry about using the `next()` function to pull it out of our data. We just print out the header stored in the `cereal_data_frame` object:\n",
        "```\n",
        "print(f\"Header: {cereal_data_frame.columns.tolist()}\")\n",
        "```\n",
        "\n",
        "Now, we only need one line to select *every* cereal in the `DataFrame` with over 5g of fiber: \n",
        "```\n",
        "matching_rows = cereal_data_frame.iloc[:,7] >= 5\n",
        "```\n",
        "Basically, we're taking our `cereal_data_frame` object and getting its `iloc` attribute. This attribute is also called `index-location` and allows us to select specific `slices` from our `DataFrame` object. Here our slice has two components, with order `[` `rows`,`columns` `]`: The first - `:` - is a shorthand for `all indices`; we select every row in the `DataFrame`. The second - `7` - indicates we select the 8th column. When we put these two statements together, they mean \"Select the 8th column from every row in `cereal_data_frame`.\". Pandas then lets us directly determine which of these items are greater than or equal to 5 using the same `>= 5` statement as above. \n",
        "\n",
        "Note, if we were sure we had a header for our `DataFrame`, we could also have done this:\n",
        "\n",
        "```\n",
        "matching_rows = cereal_data_frame['fiber'] >= 5\n",
        "```\n",
        "\n",
        "What this statement returns is a `Series`, similar to a `list`, which contains either `True` or `False` for each row in `cereal_data_frame`, indicating whether the `fiber` column in this row contained a value greater than or equal to 5. Then all we need to do is select the rows from `cereal_data_frame` which are labeled `true`:\n",
        "\n",
        "```\n",
        "print(cereal_data_frame.loc[matching_rows])\n",
        "```\n",
        "\n",
        "Here we use the `.loc` attribute of `cereal_data_frame` to get its row locations corresponding to `True` in `matching_rows`. Then, we print them! \n"
      ]
    },
    {
      "cell_type": "code",
      "metadata": {
        "colab": {
          "base_uri": "https://localhost:8080/"
        },
        "id": "Qeiquyg8nMAr",
        "outputId": "4edff28c-1c31-4b97-cba8-0e51e46662e0"
      },
      "source": [
        "#This command, while not covered above, is what measures the current time.\n",
        "time3 = time.time()\n",
        "#we make an empty string here, to later be filled by the code.\n",
        "cereal_csv = os.path.join(\"python_csv_writeup\",\"Resources\", \"cereal.csv\")\n",
        "# Open and read csv. infer what type the header is.\n",
        "cereal_data_frame = pd.read_csv(cereal_csv, sep=\",\", header=\"infer\")\n",
        "print(f\"Header: {cereal_data_frame.columns.tolist()}\")\n",
        "# Read through each row of data after the header, this time using list comprehension.\n",
        "matching_rows = cereal_data_frame.iloc[:,7] >= 5\n",
        "print(cereal_data_frame.loc[matching_rows])\n",
        "\n",
        "time3 = time.time() - time3\n",
        "\n",
        "print(f\"\\nTime: {time3}\")"
      ],
      "execution_count": null,
      "outputs": [
        {
          "output_type": "stream",
          "text": [
            "Header: ['name', 'mfr', 'type', 'calories', 'protein', 'fat', 'sodium', 'fiber', 'carbo', 'sugars', 'potass', 'vitamins', 'shelf', 'weight', 'cups', 'rating']\n",
            "                                      name mfr type  ...  weight  cups     rating\n",
            "0                                100% Bran   N    C  ...    1.00  0.33  68.402973\n",
            "2                                 All-Bran   K    C  ...    1.00  0.33  59.425505\n",
            "3                All-Bran with Extra Fiber   K    C  ...    1.00  0.50  93.704912\n",
            "9                              Bran Flakes   P    C  ...    1.00  0.67  53.313813\n",
            "27  Fruit & Fibre Dates; Walnuts; and Oats   P    C  ...    1.25  0.67  40.917047\n",
            "28                           Fruitful Bran   K    C  ...    1.33  0.67  41.015492\n",
            "52                   Post Nat. Raisin Bran   P    C  ...    1.33  0.67  37.840594\n",
            "58                             Raisin Bran   K    C  ...    1.33  0.75  39.259197\n",
            "\n",
            "[8 rows x 16 columns]\n",
            "\n",
            "Time: 0.08949995040893555\n"
          ],
          "name": "stdout"
        }
      ]
    },
    {
      "cell_type": "markdown",
      "metadata": {
        "id": "q3U9TunRGPXw"
      },
      "source": [
        "#`R` Language\n",
        "\n",
        "So, we've done the same task three different ways using `python`. Now I'm going to be showing you how this can be translated into a different coding language, which we may cover a bit in this course: `R`.\n",
        "\n",
        "Basically, `R` is a language somewhat similar to - but *much* older than - `python`. It's used primarily by researchers and statisticians, but many of its previous use-cases are now being covered by `python`. Nonetheless, this was my first data-oriented programming languate, and I'd be remiss if I didn't show you a bit of it:\n",
        "\n",
        "I'm not going to do a line-by-line here like I did above, but I am going to give you a little overview of some of `r`'s quirks:\n",
        "\n",
        "One thing you might notice here is the presence of `<-` characters where normally you'd expect to see `=`. These two do have different purposes, but they're also a bit beyond the scope of this course. Basically a good rule-of-thumb is: use `<-` when declaring variables (like `some_variable <- 5`) and `=` when assigning arguments in function calls (like `some_function(some_arg=5)`. \n",
        "\n",
        "Another difference is that when you're calling the `R` equivalent of `slices`, you don't have to use the `:` to specify `all`: you can just leave it blank!"
      ]
    },
    {
      "cell_type": "code",
      "metadata": {
        "colab": {
          "base_uri": "https://localhost:8080/"
        },
        "id": "IVC1AZVv1YDO",
        "outputId": "19b8690d-6542-4171-b28b-23420d7a884d"
      },
      "source": [
        "#you use %%R to tell the system that the next lines will be written in R language.\n",
        "%%R\n",
        "#Get the system time\n",
        "time4 <- Sys.time()\n",
        "#file.path() is the R equivalent of the os.path.join() function in python.\n",
        "cereal_csv <- file.path(\"python_csv_writeup\",\"Resources\", \"cereal.csv\")\n",
        "#read.csv is the R equivalent of the pd.read_csv() function above. \n",
        "#Note that booleans in R are ALL CAPS.\n",
        "cereal_data_frame <- read.csv(file = cereal_csv, sep=\",\", header=TRUE)\n",
        "\n",
        "#cat is short for \"print concatenated\"; basically concatenates a bunch of strings and prints them\n",
        "cat(\"Headers: \",colnames(cereal_data_frame))\n",
        "\n",
        "#select the elements in cereal_data_frame where values in the 8th column\n",
        "#are greater than or equal to 5.\n",
        "results <- cereal_data_frame[cereal_data_frame[,8] >= 5,]\n",
        "\n",
        "\n",
        "#print.data.frame(results, justify=\"left\")\n",
        "\n",
        "#subtract the current system time from the system time measured earlier\n",
        "#to get the time the code took to run.\n",
        "time4 <- Sys.time() - time4\n",
        "print(time4)"
      ],
      "execution_count": null,
      "outputs": [
        {
          "output_type": "stream",
          "text": [
            "Headers:  name mfr type calories protein fat sodium fiber carbo sugars potass vitamins shelf weight cups rating"
          ],
          "name": "stdout"
        },
        {
          "output_type": "stream",
          "text": [
            "R[write to console]: Error in `[.data.frame`(cereal_data_frame[index], 8) : \n",
            "  undefined columns selected\n",
            "\n"
          ],
          "name": "stderr"
        },
        {
          "output_type": "stream",
          "text": [
            "\n",
            "Error in `[.data.frame`(cereal_data_frame[index], 8) : \n",
            "  undefined columns selected\n"
          ],
          "name": "stdout"
        }
      ]
    },
    {
      "cell_type": "markdown",
      "metadata": {
        "id": "DzrPeEFyKOfv"
      },
      "source": [
        "#Conclusion\n",
        "Well, that's it! I gave a few differnet ways to solve this problem, which I hope can help bring together some of the things we're covering right now. Python is such a versatile language and there's always more to learn, so feel free to reach out if you have any questions or would like some clarification regarding anything I've written here. "
      ]
    },
    {
      "cell_type": "code",
      "metadata": {
        "id": "X99vKIcn7_UY"
      },
      "source": [
        ""
      ],
      "execution_count": null,
      "outputs": []
    }
  ]
}